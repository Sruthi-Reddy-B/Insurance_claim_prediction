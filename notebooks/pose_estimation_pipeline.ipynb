{
  "cells": [
    {
      "cell_type": "markdown",
      "source": [
        "##  Setup & Clone Repo"
      ],
      "metadata": {
        "id": "dqs2qtZReXwS"
      },
      "id": "dqs2qtZReXwS"
    },
    {
      "cell_type": "code",
      "source": [
        "!git clone https://github.com/Sruthi-Reddy-B/object-detection-with-pose-visualization.git\n",
        "%cd object-detection-with-pose-visualization\n",
        "!pip install -r requirements.txt\n",
        "\n",
        "# Make results directories\n",
        "import os\n",
        "os.makedirs('results/detections', exist_ok=True)\n",
        "os.makedirs('results/visualization', exist_ok=True)\n"
      ],
      "metadata": {
        "id": "enHD_bjXdJau"
      },
      "id": "enHD_bjXdJau",
      "execution_count": null,
      "outputs": []
    },
    {
      "cell_type": "markdown",
      "source": [
        "## Download Demo Image & Create Dummy Pose"
      ],
      "metadata": {
        "id": "Nd7wiAv2ehV6"
      },
      "id": "Nd7wiAv2ehV6"
    },
    {
      "cell_type": "code",
      "source": [
        "!mkdir -p data/images data/poses\n",
        "\n",
        "!wget -q https://github.com/ultralytics/assets/releases/download/v0.0.0/bus.jpg -O data/images/object_1.jpg\n",
        "\n",
        "import pandas as pd\n",
        "pose_data = pd.DataFrame({\n",
        "    'image': ['object_1.jpg'],\n",
        "    'x': [120.5], 'y': [85.3], 'z': [0.55],\n",
        "    'roll': [10.0], 'pitch': [5.0], 'yaw': [45.0]\n",
        "})\n",
        "pose_data.to_csv(\"data/poses/pose_labels.csv\", index=False)\n",
        "pose_data\n"
      ],
      "metadata": {
        "id": "ajgvJhOCemy8"
      },
      "id": "ajgvJhOCemy8",
      "execution_count": null,
      "outputs": []
    },
    {
      "cell_type": "markdown",
      "source": [
        "## Train YOLO Model (Optional Demo)"
      ],
      "metadata": {
        "id": "hiXp4s7oeuOp"
      },
      "id": "hiXp4s7oeuOp"
    },
    {
      "cell_type": "code",
      "source": [
        "# This uses src/train.py\n",
        "!python src/train.py\n"
      ],
      "metadata": {
        "id": "qCF_RSIWeuut"
      },
      "id": "qCF_RSIWeuut",
      "execution_count": null,
      "outputs": []
    },
    {
      "cell_type": "markdown",
      "source": [
        "## Run Inference & Visualize 6D Pose\n"
      ],
      "metadata": {
        "id": "Nd7i6XQue5CD"
      },
      "id": "Nd7i6XQue5CD"
    },
    {
      "cell_type": "code",
      "source": [
        "!python src/inference.py"
      ],
      "metadata": {
        "id": "CxHNUyE4e4f5"
      },
      "id": "CxHNUyE4e4f5",
      "execution_count": null,
      "outputs": []
    },
    {
      "cell_type": "markdown",
      "source": [
        "## Display Results in Notebook"
      ],
      "metadata": {
        "id": "Zp_8BrHdfEbM"
      },
      "id": "Zp_8BrHdfEbM"
    },
    {
      "cell_type": "code",
      "source": [
        "import cv2\n",
        "import matplotlib.pyplot as plt\n",
        "\n",
        "img_pose = cv2.imread('results/visualization/pose_axes.jpg')\n",
        "plt.figure(figsize=(6,6))\n",
        "plt.imshow(cv2.cvtColor(img_pose, cv2.COLOR_BGR2RGB))\n",
        "plt.axis('off')\n",
        "plt.title(\"Estimated 6D Pose Visualization\")\n",
        "plt.show()\n"
      ],
      "metadata": {
        "id": "1JqrWQ2ifDg8"
      },
      "id": "1JqrWQ2ifDg8",
      "execution_count": null,
      "outputs": []
    }
  ],
  "metadata": {
    "colab": {
      "provenance": []
    },
    "language_info": {
      "name": "python"
    },
    "kernelspec": {
      "name": "python3",
      "display_name": "Python 3"
    }
  },
  "nbformat": 4,
  "nbformat_minor": 5
}