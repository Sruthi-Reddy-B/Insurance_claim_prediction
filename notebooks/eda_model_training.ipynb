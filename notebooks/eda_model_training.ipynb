'''{
  "cells": [],
  "metadata": {},
  "nbformat": 4,
  "nbformat_minor": 5
}
'''
# Insurance Claim Prediction — End-to-End ML Pipeline

## 1. Load Data
import pandas as pd

data = pd.read_csv('../data/sample_claims.csv')
data.head()

## 2. Data Preprocessing
# Convert categorical variables
data['Vehicle_Damage'] = data['Vehicle_Damage'].map({'Yes':1,'No':0})

# Split features and target
X = data.drop('Claim_Approved', axis=1)
y = data['Claim_Approved']

# Train-test split
from sklearn.model_selection import train_test_split
X_train, X_test, y_train, y_test = train_test_split(X, y, test_size=0.2, random_state=42)

## 3. Train Model
from sklearn.ensemble import RandomForestClassifier
from sklearn.metrics import accuracy_score, confusion_matrix, classification_report

model = RandomForestClassifier(n_estimators=100, random_state=42)
model.fit(X_train, y_train)

y_pred = model.predict(X_test)

# Evaluate
print("Accuracy:", accuracy_score(y_test, y_pred))
print("Confusion Matrix:\n", confusion_matrix(y_test, y_pred))
print("Classification Report:\n", classification_report(y_test, y_pred))

## 4. Save Model
import joblib
joblib.dump(model, '../src/claim_model.pkl')

## 5. Results Visualization
import matplotlib.pyplot as plt
import seaborn as sns
cm = confusion_matrix(y_test, y_pred)
sns.heatmap(cm, annot=True, fmt='d')
plt.title("Confusion Matrix")
plt.show()
